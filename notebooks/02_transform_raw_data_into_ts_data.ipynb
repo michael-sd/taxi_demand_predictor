{
 "cells": [
  {
   "cell_type": "code",
   "execution_count": null,
   "metadata": {},
   "outputs": [],
   "source": [
    "import pandas as pd\n",
    "rides = pd.read_parquet('../data/transformed/validated_rides_2022_01.parquet')\n",
    "\n",
    "rides"
   ]
  }
 ],
 "metadata": {
  "language_info": {
   "name": "python"
  },
  "orig_nbformat": 4
 },
 "nbformat": 4,
 "nbformat_minor": 2
}
