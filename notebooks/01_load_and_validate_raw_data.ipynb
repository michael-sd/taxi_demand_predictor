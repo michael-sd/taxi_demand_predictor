{
 "cells": [
  {
   "cell_type": "code",
   "execution_count": 2,
   "metadata": {},
   "outputs": [],
   "source": [
    "from pathlib import Path\n",
    "import requests\n",
    "\n",
    "def download_raw_data_file(year: int, month: int) -> Path:\n",
    "  \"\"\"\"\"\"\n",
    "  URL = f'https://d37ci6vzurychx.cloudfront.net/trip-data/yellow_tripdata_{year}-{month:02d}.parquet'\n",
    "  response = requests.get(URL)\n",
    "\n",
    "  if response.status_code == 200:\n",
    "    path = f'../data/raw/rides_{year}_{month:02d}.parquet'\n",
    "    open(path, \"wb\").write(response.content)\n",
    "    return path\n",
    "  else:\n",
    "    raise Exception(f'{URL} is not available')"
   ]
  },
  {
   "cell_type": "code",
   "execution_count": null,
   "metadata": {},
   "outputs": [],
   "source": [
    "download_raw_data_file(year=2022, month=1)"
   ]
  }
 ],
 "metadata": {
  "kernelspec": {
   "display_name": "Python 3",
   "language": "python",
   "name": "python3"
  },
  "language_info": {
   "codemirror_mode": {
    "name": "ipython",
    "version": 3
   },
   "file_extension": ".py",
   "mimetype": "text/x-python",
   "name": "python",
   "nbconvert_exporter": "python",
   "pygments_lexer": "ipython3",
   "version": "3.9.16"
  },
  "orig_nbformat": 4
 },
 "nbformat": 4,
 "nbformat_minor": 2
}
