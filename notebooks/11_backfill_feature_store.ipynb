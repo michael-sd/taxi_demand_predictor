{
 "cells": [
  {
   "cell_type": "code",
   "execution_count": 1,
   "metadata": {},
   "outputs": [],
   "source": [
    "%reload_ext autoreload\n",
    "%autoreload 2"
   ]
  },
  {
   "cell_type": "code",
   "execution_count": null,
   "metadata": {},
   "outputs": [],
   "source": [
    "# # Fix for Hopsworks Kafka Producer issue\n",
    "# import importlib\n",
    "# import sys\n",
    "\n",
    "# # Make sure kafka-python is installed\n",
    "# try:\n",
    "#     from kafka import KafkaProducer\n",
    "# except ImportError:\n",
    "#     raise ImportError(\"Please install kafka-python: pip install kafka-python\")\n",
    "\n",
    "# # Monkey patch the missing Producer\n",
    "# import hsfs.core.kafka_producer\n",
    "# if not hasattr(hsfs.core.kafka_producer, \"Producer\"):\n",
    "#     hsfs.core.kafka_producer.Producer = KafkaProducer"
   ]
  },
  {
   "cell_type": "code",
   "execution_count": 2,
   "metadata": {},
   "outputs": [],
   "source": [
    "HOPSWORKS_PROJECT_NAME = 'msd_taxi_demand'"
   ]
  },
  {
   "cell_type": "code",
   "execution_count": 4,
   "metadata": {},
   "outputs": [],
   "source": [
    "import os\n",
    "import sys\n",
    "\n",
    "# Add the parent directory (project root) to the Python path\n",
    "project_root = os.path.abspath(os.path.join(os.getcwd(), '..'))\n",
    "if project_root not in sys.path:\n",
    "    sys.path.insert(0, project_root)\n",
    "    \n",
    "# Now try the import\n",
    "from dotenv import load_dotenv\n",
    "from src.paths import PARENT_DIR\n",
    "\n",
    "# load key-value pairs from .env file\n",
    "load_dotenv(PARENT_DIR / '.env')\n",
    "HOPSWORKS_API_KEY = os.environ['HOPSWORKS_API_KEY']"
   ]
  },
  {
   "cell_type": "code",
   "execution_count": 5,
   "metadata": {},
   "outputs": [
    {
     "name": "stdout",
     "output_type": "stream",
     "text": [
      "Downloading raw data from 2022 to 2025\n",
      "File 2022_01 was already in local storage\n",
      "File 2022_02 was already in local storage\n",
      "File 2022_03 was already in local storage\n",
      "File 2022_04 was already in local storage\n",
      "File 2022_05 was already in local storage\n",
      "File 2022_06 was already in local storage\n",
      "File 2022_07 was already in local storage\n",
      "File 2022_08 was already in local storage\n",
      "File 2022_09 was already in local storage\n",
      "File 2022_10 was already in local storage\n",
      "File 2022_11 was already in local storage\n",
      "File 2022_12 was already in local storage\n",
      "File 2023_01 was already in local storage\n",
      "File 2023_02 was already in local storage\n",
      "File 2023_03 was already in local storage\n",
      "File 2023_04 was already in local storage\n",
      "File 2023_05 was already in local storage\n",
      "File 2023_06 was already in local storage\n",
      "File 2023_07 was already in local storage\n",
      "File 2023_08 was already in local storage\n",
      "File 2023_09 was already in local storage\n",
      "File 2023_10 was already in local storage\n",
      "File 2023_11 was already in local storage\n",
      "File 2023_12 was already in local storage\n",
      "File 2024_01 was already in local storage\n",
      "File 2024_02 was already in local storage\n",
      "File 2024_03 was already in local storage\n",
      "File 2024_04 was already in local storage\n",
      "File 2024_05 was already in local storage\n",
      "File 2024_06 was already in local storage\n",
      "File 2024_07 was already in local storage\n",
      "File 2024_08 was already in local storage\n",
      "File 2024_09 was already in local storage\n",
      "File 2024_10 was already in local storage\n",
      "File 2024_11 was already in local storage\n",
      "File 2024_12 was already in local storage\n",
      "Downloading file 2025_01\n",
      "2025_01 file is not available\n",
      "Downloading file 2025_02\n",
      "2025_02 file is not available\n",
      "Downloading file 2025_03\n",
      "2025_03 file is not available\n",
      "Downloading file 2025_04\n",
      "2025_04 file is not available\n",
      "Downloading file 2025_05\n",
      "2025_05 file is not available\n",
      "Downloading file 2025_06\n",
      "2025_06 file is not available\n",
      "Downloading file 2025_07\n",
      "2025_07 file is not available\n",
      "Downloading file 2025_08\n",
      "2025_08 file is not available\n",
      "Downloading file 2025_09\n",
      "2025_09 file is not available\n",
      "Downloading file 2025_10\n",
      "2025_10 file is not available\n",
      "Downloading file 2025_11\n",
      "2025_11 file is not available\n",
      "Downloading file 2025_12\n",
      "2025_12 file is not available\n"
     ]
    }
   ],
   "source": [
    "from datetime import datetime\n",
    "import pandas as pd\n",
    "from src.data import load_raw_data\n",
    "\n",
    "from_year = 2022\n",
    "to_year = datetime.now().year\n",
    "print(f'Downloading raw data from {from_year} to {to_year}')\n",
    "\n",
    "rides = pd.DataFrame()\n",
    "for year in range(from_year, to_year+1):\n",
    "    \n",
    "    # download data for the whole year\n",
    "    rides_one_year = load_raw_data(year)\n",
    "    \n",
    "    # append rows\n",
    "    rides = pd.concat([rides, rides_one_year])"
   ]
  },
  {
   "cell_type": "code",
   "execution_count": 6,
   "metadata": {},
   "outputs": [
    {
     "name": "stdout",
     "output_type": "stream",
     "text": [
      "len(rides)=119,133,430\n"
     ]
    }
   ],
   "source": [
    "print(f'{len(rides)=:,}')"
   ]
  },
  {
   "cell_type": "code",
   "execution_count": 7,
   "metadata": {},
   "outputs": [
    {
     "name": "stderr",
     "output_type": "stream",
     "text": [
      "100%|██████████| 265/265 [00:03<00:00, 70.65it/s] \n"
     ]
    }
   ],
   "source": [
    "from src.data import transform_raw_data_into_ts_data\n",
    "\n",
    "ts_data = transform_raw_data_into_ts_data(rides)"
   ]
  },
  {
   "cell_type": "code",
   "execution_count": 8,
   "metadata": {},
   "outputs": [],
   "source": [
    "# string to datetime\n",
    "ts_data['pickup_hour'] = pd.to_datetime(ts_data['pickup_hour'], utc=True)\n",
    "\n",
    "# add column with Unix epoch milliseconds\n",
    "ts_data['pickup_ts'] = ts_data['pickup_hour'].astype(int) // 10**6"
   ]
  },
  {
   "cell_type": "code",
   "execution_count": 9,
   "metadata": {},
   "outputs": [],
   "source": [
    "import hopsworks"
   ]
  },
  {
   "cell_type": "code",
   "execution_count": 10,
   "metadata": {},
   "outputs": [
    {
     "name": "stdout",
     "output_type": "stream",
     "text": [
      "2025-02-27 22:27:45,326 INFO: Initializing external client\n",
      "2025-02-27 22:27:45,327 INFO: Base URL: https://c.app.hopsworks.ai:443\n",
      "2025-02-27 22:27:47,242 INFO: Python Engine initialized.\n",
      "\n",
      "Logged in to project, explore it here https://c.app.hopsworks.ai:443/p/1214654\n"
     ]
    }
   ],
   "source": [
    "project = hopsworks.login(\n",
    "    project=HOPSWORKS_PROJECT_NAME,\n",
    "    api_key_value=HOPSWORKS_API_KEY\n",
    ")"
   ]
  },
  {
   "cell_type": "code",
   "execution_count": 11,
   "metadata": {},
   "outputs": [],
   "source": [
    "feature_store = project.get_feature_store()"
   ]
  },
  {
   "cell_type": "code",
   "execution_count": 12,
   "metadata": {},
   "outputs": [],
   "source": [
    "FEATURE_GROUP_NAME = 'time_series_hourly_feature_group'\n",
    "FEATURE_GROUP_VERSION = 1"
   ]
  },
  {
   "cell_type": "code",
   "execution_count": 13,
   "metadata": {},
   "outputs": [],
   "source": [
    "feature_group = feature_store.get_or_create_feature_group(\n",
    "    name=FEATURE_GROUP_NAME,\n",
    "    version=FEATURE_GROUP_VERSION,\n",
    "    description=\"Time-series data at hourly frequency\",\n",
    "    primary_key = ['pickup_location_id', 'pickup_ts'],\n",
    "    event_time='pickup_ts',\n",
    ")"
   ]
  },
  {
   "cell_type": "code",
   "execution_count": null,
   "metadata": {},
   "outputs": [],
   "source": [
    "import hsfs\n",
    "print(hsfs.__version__)\n",
    "\n",
    "try:\n",
    "    from confluent_kafka import Producer\n",
    "    print(\"Producer class is available\")\n",
    "except ImportError:\n",
    "    print(\"Producer class is not available\")"
   ]
  },
  {
   "cell_type": "code",
   "execution_count": 14,
   "metadata": {},
   "outputs": [
    {
     "name": "stderr",
     "output_type": "stream",
     "text": [
      "Uploading Dataframe: 100.00% |██████████| Rows 6970560/6970560 | Elapsed Time: 06:54 | Remaining Time: 00:00\n"
     ]
    },
    {
     "name": "stdout",
     "output_type": "stream",
     "text": [
      "Launching job: time_series_hourly_feature_group_1_offline_fg_materialization\n",
      "Job started successfully, you can follow the progress at \n",
      "https://c.app.hopsworks.ai:443/p/1214654/jobs/named/time_series_hourly_feature_group_1_offline_fg_materialization/executions\n"
     ]
    },
    {
     "data": {
      "text/plain": [
       "(Job('time_series_hourly_feature_group_1_offline_fg_materialization', 'SPARK'),\n",
       " None)"
      ]
     },
     "execution_count": 14,
     "metadata": {},
     "output_type": "execute_result"
    }
   ],
   "source": [
    "feature_group.insert(ts_data, write_options={\"wait_for_job\": False})"
   ]
  }
 ],
 "metadata": {
  "kernelspec": {
   "display_name": "src-tBY6kK5j-py3.11",
   "language": "python",
   "name": "python3"
  },
  "language_info": {
   "codemirror_mode": {
    "name": "ipython",
    "version": 3
   },
   "file_extension": ".py",
   "mimetype": "text/x-python",
   "name": "python",
   "nbconvert_exporter": "python",
   "pygments_lexer": "ipython3",
   "version": "3.11.11"
  }
 },
 "nbformat": 4,
 "nbformat_minor": 2
}
