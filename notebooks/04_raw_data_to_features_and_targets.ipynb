{
 "cells": [
  {
   "cell_type": "code",
   "execution_count": null,
   "metadata": {},
   "outputs": [],
   "source": [
    "from src.data import load_raw_data\n",
    "from src.paths import RAW_DATA_DIR\n",
    "\n",
    "rides = load_raw_data(year=2022)\n",
    "rides"
   ]
  }
 ],
 "metadata": {
  "kernelspec": {
   "display_name": "src-tBY6kK5j-py3.11",
   "language": "python",
   "name": "python3"
  },
  "language_info": {
   "codemirror_mode": {
    "name": "ipython",
    "version": 3
   },
   "file_extension": ".py",
   "mimetype": "text/x-python",
   "name": "python",
   "nbconvert_exporter": "python",
   "pygments_lexer": "ipython3",
   "version": "3.11.10"
  }
 },
 "nbformat": 4,
 "nbformat_minor": 2
}
